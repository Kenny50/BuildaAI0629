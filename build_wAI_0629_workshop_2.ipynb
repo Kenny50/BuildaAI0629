{
  "nbformat": 4,
  "nbformat_minor": 0,
  "metadata": {
    "colab": {
      "provenance": []
    },
    "kernelspec": {
      "name": "python3",
      "display_name": "Python 3"
    },
    "language_info": {
      "name": "python"
    }
  },
  "cells": [
    {
      "cell_type": "markdown",
      "source": [
        "在這個工作坊內，你將會了解到 function calling 的基礎架構，並且你需要完成 todo 來實現缺少的工具，需要特別注意的是， api 一天只能呼叫 25 次\n",
        "\n",
        "請先前往 https://www.alphavantage.co/support/#api-key 申請 api key\n",
        "\n",
        "參考自官方範例，版權歸屬 Google\n",
        "\n",
        "https://github.com/GoogleCloudPlatform/generative-ai/blob/25fc2ee894cab43733573f8f463cd3235bd72b64/gemini/function-calling/use_case_company_news_and_insights.ipynb"
      ],
      "metadata": {
        "id": "jWUTg6Ol9bOO"
      }
    },
    {
      "cell_type": "code",
      "execution_count": null,
      "metadata": {
        "id": "A2z6veJXbCbT"
      },
      "outputs": [],
      "source": [
        "!pip install --upgrade --quiet google-cloud-aiplatform requests\n"
      ]
    },
    {
      "cell_type": "code",
      "source": [
        "import IPython\n",
        "\n",
        "app = IPython.Application.instance()\n",
        "app.kernel.do_shutdown(True)"
      ],
      "metadata": {
        "id": "zE5KFr3R9sWF",
        "colab": {
          "base_uri": "https://localhost:8080/"
        },
        "outputId": "fddca707-bfef-46ce-afbd-a135aab992e0"
      },
      "execution_count": null,
      "outputs": [
        {
          "output_type": "execute_result",
          "data": {
            "text/plain": [
              "{'status': 'ok', 'restart': True}"
            ]
          },
          "metadata": {},
          "execution_count": 2
        }
      ]
    },
    {
      "cell_type": "code",
      "source": [
        "import sys\n",
        "\n",
        "if \"google.colab\" in sys.modules:\n",
        "    from google.colab import auth\n",
        "\n",
        "    auth.authenticate_user()"
      ],
      "metadata": {
        "id": "GpxlQLNO9uFZ"
      },
      "execution_count": null,
      "outputs": []
    },
    {
      "cell_type": "code",
      "source": [
        "PROJECT_ID = \"[your-project-id]\"  # @param {type:\"string\"}\n",
        "LOCATION = \"us-central1\"  # @param {type:\"string\"}\n",
        "\n",
        "import vertexai\n",
        "\n",
        "vertexai.init(project=PROJECT_ID, location=LOCATION)"
      ],
      "metadata": {
        "id": "48_yVm8a9vuw"
      },
      "execution_count": null,
      "outputs": []
    },
    {
      "cell_type": "code",
      "source": [
        "import requests\n",
        "from IPython.display import display, Markdown\n",
        "from vertexai.generative_models import (\n",
        "    FunctionDeclaration,\n",
        "    GenerativeModel,\n",
        "    GenerationConfig,\n",
        "    Part,\n",
        "    Tool,\n",
        ")"
      ],
      "metadata": {
        "id": "cMvRsf5O9x3g"
      },
      "execution_count": null,
      "outputs": []
    },
    {
      "cell_type": "code",
      "source": [
        "get_stock_price = FunctionDeclaration(\n",
        "    name=\"get_stock_price\",\n",
        "    description=\"Fetch the current stock price of a given company\",\n",
        "    parameters={\n",
        "        \"type\": \"object\",\n",
        "        \"properties\": {\n",
        "            \"ticker\": {\n",
        "                \"type\": \"string\",\n",
        "                \"description\": \"Stock ticker symbol for a company\",\n",
        "            }\n",
        "        },\n",
        "    },\n",
        ")\n",
        "\n",
        "# todo Step 1, implement company overview function declaration\n",
        "# 可以參考前後的語法和文件來完成\n",
        "# doc: https://www.alphavantage.co/documentation/#company-overview\n",
        "\n",
        "get_company_news = FunctionDeclaration(\n",
        "    name=\"get_company_news\",\n",
        "    description=\"Get the latest news headlines for a given company.\",\n",
        "    parameters={\n",
        "        \"type\": \"object\",\n",
        "        \"properties\": {\n",
        "            \"tickers\": {\n",
        "                \"type\": \"string\",\n",
        "                \"description\": \"Stock ticker symbol for a company\",\n",
        "            }\n",
        "        },\n",
        "    },\n",
        ")\n",
        "\n",
        "get_news_with_sentiment = FunctionDeclaration(\n",
        "    name=\"get_news_with_sentiment\",\n",
        "    description=\"Gets live and historical market news and sentiment data\",\n",
        "    parameters={\n",
        "        \"type\": \"object\",\n",
        "        \"properties\": {\n",
        "            \"news_topic\": {\n",
        "                \"type\": \"string\",\n",
        "                \"description\": \"\"\"News topic to learn about. Supported topics\n",
        "                               include blockchain, earnings, ipo,\n",
        "                               mergers_and_acquisitions, financial_markets,\n",
        "                               economy_fiscal, economy_monetary, economy_macro,\n",
        "                               energy_transportation, finance, life_sciences,\n",
        "                               manufacturing, real_estate, retail_wholesale,\n",
        "                               and technology\"\"\",\n",
        "            },\n",
        "        },\n",
        "    },\n",
        ")"
      ],
      "metadata": {
        "id": "aMXxJIp496cj"
      },
      "execution_count": null,
      "outputs": []
    },
    {
      "cell_type": "code",
      "source": [
        "# todo Step 2, 請將 step 1 實現的功能加入下方的 function_declarations 陣列之中\n",
        "\n",
        "company_insights_tool = Tool(\n",
        "    function_declarations=[\n",
        "        get_stock_price,\n",
        "        get_company_news,\n",
        "        get_news_with_sentiment,\n",
        "    ],\n",
        ")"
      ],
      "metadata": {
        "id": "ggdm7IpF98fr"
      },
      "execution_count": null,
      "outputs": []
    },
    {
      "cell_type": "code",
      "source": [
        "API_KEY = \"PASTE_YOUR_API_KEY_HERE\" # @param {type:\"string\"}\n"
      ],
      "metadata": {
        "id": "A5A4VNlt993m"
      },
      "execution_count": null,
      "outputs": []
    },
    {
      "cell_type": "code",
      "source": [
        "def get_stock_price_from_api(content):\n",
        "    url = f\"https://www.alphavantage.co/query?function=GLOBAL_QUOTE&symbol={content['ticker']}&apikey={API_KEY}\"\n",
        "    api_request = requests.get(url)\n",
        "    return api_request.text\n",
        "\n",
        "# todo Step 3, implement company overview function api request\n",
        "# doc: https://www.alphavantage.co/documentation/#company-overview\n",
        "\n",
        "\n",
        "def get_company_news_from_api(content):\n",
        "    url = f\"https://www.alphavantage.co/query?function=NEWS_SENTIMENT&tickers={content['tickers']}&limit=20&sort=RELEVANCE&apikey={API_KEY}\"\n",
        "    api_response = requests.get(url)\n",
        "    return api_response.text\n",
        "\n",
        "\n",
        "def get_news_with_sentiment_from_api(content):\n",
        "    url = f\"https://www.alphavantage.co/query?function=NEWS_SENTIMENT&topics={content['news_topic']}&limit=20&sort=RELEVANCE&apikey={API_KEY}\"\n",
        "    api_request = requests.get(url)\n",
        "    return api_request.text"
      ],
      "metadata": {
        "id": "j4JY6DXn-ARJ"
      },
      "execution_count": null,
      "outputs": []
    },
    {
      "cell_type": "code",
      "source": [
        "# todo Step 4, 請將 step 3 實現的功能和 step 1 定義好的 name 加入下方的 handler 之中\n",
        "function_handler = {\n",
        "    \"get_stock_price\": get_stock_price_from_api,\n",
        "    \"get_company_news\": get_company_news_from_api,\n",
        "    \"get_news_with_sentiment\": get_news_with_sentiment_from_api,\n",
        "}"
      ],
      "metadata": {
        "id": "I3BiD1Xf-CP6"
      },
      "execution_count": null,
      "outputs": []
    },
    {
      "cell_type": "code",
      "source": [
        "gemini_model = GenerativeModel(\n",
        "    \"gemini-1.5-flash-001\",\n",
        "    generation_config=GenerationConfig(temperature=0),\n",
        "    tools=[company_insights_tool],\n",
        ")"
      ],
      "metadata": {
        "id": "mKhhGogo-ERJ"
      },
      "execution_count": null,
      "outputs": []
    },
    {
      "cell_type": "code",
      "source": [
        "chat = gemini_model.start_chat()\n"
      ],
      "metadata": {
        "id": "ISgHzTDy-TMY"
      },
      "execution_count": null,
      "outputs": []
    },
    {
      "cell_type": "code",
      "source": [
        "\n",
        "def send_chat_message(prompt):\n",
        "    display(Markdown(\"#### Prompt\"))\n",
        "    print(prompt, \"\\n\")\n",
        "    prompt += \"\"\"\n",
        "    Give a concise, high-level summary. Only use information that you learn from\n",
        "    the API responses.\n",
        "    \"\"\"\n",
        "\n",
        "    # Send a chat message to the Gemini API\n",
        "    response = chat.send_message(prompt)\n",
        "\n",
        "    # Handle cases with multiple chained function calls\n",
        "    function_calling_in_process = True\n",
        "    while function_calling_in_process:\n",
        "        # Extract the function call response\n",
        "        function_call = response.candidates[0].content.parts[0].function_call\n",
        "\n",
        "        # Check for a function call or a natural language response\n",
        "        if function_call.name in function_handler.keys():\n",
        "            # Extract the function call\n",
        "            function_call = response.candidates[0].content.parts[0].function_call\n",
        "\n",
        "            # Extract the function call name\n",
        "            function_name = function_call.name\n",
        "            display(Markdown(\"#### Predicted function name\"))\n",
        "            print(function_name, \"\\n\")\n",
        "\n",
        "            # Extract the function call parameters\n",
        "            params = {key: value for key, value in function_call.args.items()}\n",
        "            display(Markdown(\"#### Predicted function parameters\"))\n",
        "            print(params, \"\\n\")\n",
        "\n",
        "            # Invoke a function that calls an external API\n",
        "            function_api_response = function_handler[function_name](params)[\n",
        "                :20000\n",
        "            ]  # Stay within the input token limit\n",
        "            display(Markdown(\"#### API response\"))\n",
        "            print(function_api_response[:500], \"...\", \"\\n\")\n",
        "\n",
        "            # Send the API response back to Gemini, which will generate a natural language summary or another function call\n",
        "            response = chat.send_message(\n",
        "                Part.from_function_response(\n",
        "                    name=function_name,\n",
        "                    response={\"content\": function_api_response},\n",
        "                ),\n",
        "            )\n",
        "        else:\n",
        "            function_calling_in_process = False\n",
        "\n",
        "    # Show the final natural language summary\n",
        "    display(Markdown(\"#### Natural language response\"))\n",
        "    display(Markdown(response.text.replace(\"$\", \"\\\\\\$\")))"
      ],
      "metadata": {
        "id": "ECkX6F_P-cK3"
      },
      "execution_count": null,
      "outputs": []
    },
    {
      "cell_type": "markdown",
      "source": [
        "延伸閱讀\n",
        "ReAct\n",
        "https://github.com/GoogleCloudPlatform/generative-ai/blob/25fc2ee894cab43733573f8f463cd3235bd72b64/gemini/function-calling/intro_diy_react_agent.ipynb"
      ],
      "metadata": {
        "id": "PJV9KSCO9OxF"
      }
    },
    {
      "cell_type": "markdown",
      "source": [
        "測試功能"
      ],
      "metadata": {
        "id": "-Ew9uwKJThYA"
      }
    },
    {
      "cell_type": "code",
      "source": [
        "stock_price_prompt = \"What is the current stock price for Google?\"\n",
        "overview_prompt = \"What is the company overview for Google?\"\n",
        "multiple_overview_prompt = \"Give me a company overview of Walmart and The Home Depot\"\n",
        "news_prompt = \"What are the latest news headlines for Google?\"\n",
        "industry_news_prompt = \"Has there been any exciting news related to real estate recently?\""
      ],
      "metadata": {
        "id": "HWJT2ZKWTFg7"
      },
      "execution_count": null,
      "outputs": []
    },
    {
      "cell_type": "code",
      "source": [
        "send_chat_message()"
      ],
      "metadata": {
        "id": "NeCxxBVhTgR9"
      },
      "execution_count": null,
      "outputs": []
    }
  ]
}