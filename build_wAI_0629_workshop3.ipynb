{
  "nbformat": 4,
  "nbformat_minor": 0,
  "metadata": {
    "colab": {
      "provenance": []
    },
    "kernelspec": {
      "name": "python3",
      "display_name": "Python 3"
    },
    "language_info": {
      "name": "python"
    }
  },
  "cells": [
    {
      "cell_type": "markdown",
      "source": [
        "https://www.unipark.de/uc/testothek/ospe.php?SES=00f6e925029887c1672b8471e6135035&syid=901706&sid=901707&act=start&js=15&flash=0\n",
        "\n",
        "氣球風險測驗線上網站\n",
        "\n",
        "這個工作訪的任務是，嘗試根據你期望的行為定義 prompt ，並讓 AI 執行，你可以加入自己的 function tool 來協助你達成任務"
      ],
      "metadata": {
        "id": "9QZpRKUnpr0P"
      }
    },
    {
      "cell_type": "code",
      "execution_count": 1,
      "metadata": {
        "id": "9POSm09sJvx3",
        "colab": {
          "base_uri": "https://localhost:8080/"
        },
        "outputId": "74f28b78-ef9b-45e9-f8e1-793ad65d9d17"
      },
      "outputs": [
        {
          "output_type": "stream",
          "name": "stdout",
          "text": [
            "\u001b[2K     \u001b[90m━━━━━━━━━━━━━━━━━━━━━━━━━━━━━━━━━━━━━━━━\u001b[0m \u001b[32m163.9/163.9 kB\u001b[0m \u001b[31m2.4 MB/s\u001b[0m eta \u001b[36m0:00:00\u001b[0m\n",
            "\u001b[2K     \u001b[90m━━━━━━━━━━━━━━━━━━━━━━━━━━━━━━━━━━━━━━━━\u001b[0m \u001b[32m718.3/718.3 kB\u001b[0m \u001b[31m8.7 MB/s\u001b[0m eta \u001b[36m0:00:00\u001b[0m\n",
            "\u001b[?25h"
          ]
        }
      ],
      "source": [
        "!pip install --upgrade --quiet google-generativeai\n"
      ]
    },
    {
      "cell_type": "markdown",
      "source": [
        "安裝資源和重新啟動環境"
      ],
      "metadata": {
        "id": "GvwckjLjJI2R"
      }
    },
    {
      "cell_type": "code",
      "source": [
        "import IPython\n",
        "\n",
        "app = IPython.Application.instance()\n",
        "app.kernel.do_shutdown(True)"
      ],
      "metadata": {
        "id": "RAfZi9pnJ4DY",
        "colab": {
          "base_uri": "https://localhost:8080/"
        },
        "outputId": "b7790b30-d5c6-47cd-c8c7-34913df23b0e"
      },
      "execution_count": 2,
      "outputs": [
        {
          "output_type": "execute_result",
          "data": {
            "text/plain": [
              "{'status': 'ok', 'restart': True}"
            ]
          },
          "metadata": {},
          "execution_count": 2
        }
      ]
    },
    {
      "cell_type": "code",
      "source": [
        "import requests\n",
        "from IPython.display import display, Markdown\n",
        "import google.generativeai as genai\n",
        "from google.generativeai.types import FunctionDeclaration\n",
        "from google.generativeai.types import content_types\n",
        "import requests"
      ],
      "metadata": {
        "id": "DUz-iCnJJ94S"
      },
      "execution_count": 1,
      "outputs": []
    },
    {
      "cell_type": "markdown",
      "source": [
        "定義各個 function 以及需要參數和描述"
      ],
      "metadata": {
        "id": "uS5Uos6iJNKT"
      }
    },
    {
      "cell_type": "code",
      "source": [
        "start_new_game = FunctionDeclaration(\n",
        "    name=\"start_new_game\",\n",
        "    description=\"Start a new ballon risk game\",\n",
        "    parameters={\n",
        "        \"type\": \"object\",\n",
        "        \"properties\": {\n",
        "            \"userId\": {\n",
        "                \"type\": \"string\",\n",
        "                \"description\": \"id represent for user\",\n",
        "            }\n",
        "        },\n",
        "    },\n",
        ")\n",
        "\n",
        "pump = FunctionDeclaration(\n",
        "    name=\"pump\",\n",
        "    description=\"pump the ballon to trying to earn 0.5 cent\",\n",
        "    parameters={\n",
        "        \"type\": \"object\",\n",
        "        \"properties\": {\n",
        "            \"userId\": {\n",
        "                \"type\": \"string\",\n",
        "                \"description\": \"id represent for user\",\n",
        "            }\n",
        "        },\n",
        "    },\n",
        ")\n",
        "\n",
        "cash_out = FunctionDeclaration(\n",
        "    name=\"cash_out\",\n",
        "    description=\"cash_out current ballon balance, then calling next to start with a new ballon\",\n",
        "    parameters={\n",
        "        \"type\": \"object\",\n",
        "        \"properties\": {\n",
        "            \"userId\": {\n",
        "                \"type\": \"string\",\n",
        "                \"description\": \"id represent for user\",\n",
        "            }\n",
        "        },\n",
        "    },\n",
        ")\n",
        "\n",
        "next = FunctionDeclaration(\n",
        "    name=\"next\",\n",
        "    description=\"once a ballon explode or cash_out, calling next to start with a new ballon\",\n",
        "    parameters={\n",
        "        \"type\": \"object\",\n",
        "        \"properties\": {\n",
        "            \"userId\": {\n",
        "               \"type\": \"string\",\n",
        "                \"description\": \"id represent for user\",\n",
        "            },\n",
        "        },\n",
        "    },\n",
        ")"
      ],
      "metadata": {
        "id": "0LLCxgLHKAGO"
      },
      "execution_count": 2,
      "outputs": []
    },
    {
      "cell_type": "markdown",
      "source": [
        "將所有需要的工具放在一起"
      ],
      "metadata": {
        "id": "9ULW_SEXJSaO"
      }
    },
    {
      "cell_type": "code",
      "source": [
        "\n",
        "ballon_game_tool = [start_new_game, pump, cash_out, next]"
      ],
      "metadata": {
        "id": "WG6XdM63K6BQ"
      },
      "execution_count": 3,
      "outputs": []
    },
    {
      "cell_type": "markdown",
      "source": [
        "當前面的任務被 AI 指定時，實際上我們要使用的工具"
      ],
      "metadata": {
        "id": "_O71k7J3JVfH"
      }
    },
    {
      "cell_type": "code",
      "source": [
        "def start_new_game_api(userId):\n",
        "    url = f\"https://ballon.kenciao.com/start?userId={userId}\"\n",
        "    api_request = requests.get(url)\n",
        "    return api_request.text\n",
        "\n",
        "\n",
        "def pump_api(userId):\n",
        "    url = f\"https://ballon.kenciao.com/pump?userId={userId}\"\n",
        "    api_response = requests.get(url)\n",
        "    return api_response.text\n",
        "\n",
        "\n",
        "def cash_out_api(userId):\n",
        "    url = f\"https://ballon.kenciao.com/redeem?userId={userId}\"\n",
        "    api_response = requests.get(url)\n",
        "    return api_response.text\n",
        "\n",
        "\n",
        "def next_api(userId):\n",
        "    url = f\"https://ballon.kenciao.com/next?userId={userId}\"\n",
        "    api_request = requests.get(url)\n",
        "    return api_request.text"
      ],
      "metadata": {
        "id": "9L2njz7wLCEN"
      },
      "execution_count": 4,
      "outputs": []
    },
    {
      "cell_type": "markdown",
      "source": [
        "將工具名稱，和工具實體連接起來"
      ],
      "metadata": {
        "id": "wXyNN6KxJdLj"
      }
    },
    {
      "cell_type": "code",
      "source": [
        "function_handler = {\n",
        "    \"start_new_game\": start_new_game_api,\n",
        "    \"pump\": pump_api,\n",
        "    \"cash_out\": cash_out_api,\n",
        "    \"next\": next_api,\n",
        "}"
      ],
      "metadata": {
        "id": "_vlDHAvXLWue"
      },
      "execution_count": 5,
      "outputs": []
    },
    {
      "cell_type": "markdown",
      "source": [
        "請輸入你在 GCP 平台的 API Key，我們在這邊將遊戲規則定義給 AI 模型"
      ],
      "metadata": {
        "id": "kCovNYKaJiqD"
      }
    },
    {
      "cell_type": "code",
      "source": [
        "api_key = \"\" # @param {type:\"string\"}\n",
        "\n",
        "genai.configure(api_key=api_key)\n",
        "\n",
        "gemini_model = genai.GenerativeModel(\n",
        "    \"gemini-1.5-flash-001\",\n",
        "    tools=[ballon_game_tool],\n",
        "    system_instruction=\"\"\"Your are about to see 10 balloons, one after another. For each balloon, you will  pump up the balloon. Each pumps the balloon up a little more.\n",
        "\n",
        "BUT remember, balloons pop if you pump them up too much. It is up to you to decide how much to pump up each balloon. Some of these balloons might pop after just one pump. Others might not pop until they fill the whole screen.\n",
        "\n",
        "You get money for every pump. Each pump earns $0.05. But if a balloon pops, you lose the money you earned on that balloon. To keep the money from a balloon, stop pumping before it pops and request redeem current balance.\n",
        "\n",
        "After each time you collect the money or pop a balloon, a new balloon will appear.\n",
        "\n",
        "At the end of the experiment, you will be paid the amount earned on the game.\n",
        "\n",
        "In summary:\n",
        "\n",
        "You make $0.05 for each pump\n",
        "You save the money from the balloon when you redeem.\n",
        "You lose money from a balloon when it pops.\n",
        "There are just 10 balloons.\n",
        "You will be paid the exact amount you earned on the game.\n",
        "\n",
        "please using start_new_game, next, pump, cash_out to making money.\n",
        "YOU MUST KEEP PLAY THIS GAME UNTIL NEXT FUNCTION RETURN FINISH, ONCE YOU REDEEM OR A BALLON EXPLODE, YOU SHOULD CALL NEXT FUNCTION.\n",
        "YOU JOB IS BASE ON USER GIVNIG STRADEGY TO CHOOSE THE BEST TOOL IN THIS GAME.\n",
        "\"\"\"\n",
        ")\n",
        "chat = gemini_model.start_chat()"
      ],
      "metadata": {
        "id": "I58DO6ieLdmc"
      },
      "execution_count": 7,
      "outputs": []
    },
    {
      "cell_type": "markdown",
      "source": [
        "定義可以重複循環的 function call loop"
      ],
      "metadata": {
        "id": "eaR2yYJNJyqg"
      }
    },
    {
      "cell_type": "code",
      "source": [
        "\n",
        "def send_chat_message(prompt):\n",
        "    display(Markdown(\"#### Prompt\"))\n",
        "    print(prompt, \"\\n\")\n",
        "\n",
        "    # Send a chat message to the Gemini API\n",
        "    response = chat.send_message(prompt)\n",
        "    # Handle cases with multiple chained function calls\n",
        "    function_calling_in_process = True\n",
        "    while function_calling_in_process:\n",
        "        # Extract the function call response\n",
        "        function_call = response.candidates[0].content.parts[0].function_call\n",
        "        # print(\"function_call\")\n",
        "        # print(response.candidates[0])\n",
        "        # Check for a function call or a natural language response\n",
        "        if function_call.name in function_handler.keys():\n",
        "            # Extract the function call\n",
        "            function_call = response.candidates[0].content.parts[0].function_call\n",
        "\n",
        "            # Extract the function call name\n",
        "            function_name = function_call.name\n",
        "            display(Markdown(\"#### Predicted function name\"))\n",
        "            print(function_name, \"\\n\")\n",
        "\n",
        "            # Extract the function call parameters\n",
        "            params = {key: value for key, value in function_call.args.items()}\n",
        "            # display(Markdown(\"#### Predicted function parameters\"))\n",
        "            # print(params, \"\\n\")\n",
        "\n",
        "            # Invoke a function that calls an external API\n",
        "            function_api_response = function_handler[function_name](params)[\n",
        "                :20000\n",
        "            ]  # Stay within the input token limit\n",
        "            display(Markdown(\"#### API response\"))\n",
        "            print(function_api_response)\n",
        "\n",
        "            # Send the API response back to Gemini, which will generate a natural language summary or another function call\n",
        "            response = chat.send_message(\n",
        "                genai.protos.Part(\n",
        "                    function_response=genai.protos.FunctionResponse(name=function_name, response={\"result\": function_api_response})\n",
        "                )\n",
        "            )\n",
        "        else:\n",
        "            # print(chat.history)\n",
        "            # print(len(chat.history))\n",
        "            function_calling_in_process = False\n",
        "    display(Markdown(\"#### Natural language response\"))\n",
        "    display(Markdown(response.text.replace(\"$\", \"\\\\\\$\")))\n"
      ],
      "metadata": {
        "id": "3ZupBT20LiQx"
      },
      "execution_count": 8,
      "outputs": []
    },
    {
      "cell_type": "markdown",
      "source": [
        "請輸入你的 prompt 以讓模型根據依照你定義的行為進行風險評估測試\n",
        "ex. 請扮演 能承擔高/ 低風險的投資人"
      ],
      "metadata": {
        "id": "M89fniAOJ4E5"
      }
    },
    {
      "cell_type": "code",
      "source": [
        "userId = \"11011011101s\" # @param {type:\"string\"}\n",
        "using_id_prompt = f\"you can use userId: `{userId}` as parameter\"\n",
        "user_prompt = \"be a risk perfer investor, and start playing ballon risk game, your task is earn as much money as you can.\"# @param {type:\"string\"}\n",
        "send_chat_message( using_id_prompt + user_prompt)"
      ],
      "metadata": {
        "colab": {
          "base_uri": "https://localhost:8080/",
          "height": 1000
        },
        "id": "Ly7Ux2w-VJc2",
        "outputId": "8bb113c6-9781-461e-a849-9267f68bfab4"
      },
      "execution_count": 9,
      "outputs": [
        {
          "output_type": "display_data",
          "data": {
            "text/plain": [
              "<IPython.core.display.Markdown object>"
            ],
            "text/markdown": "#### Prompt"
          },
          "metadata": {}
        },
        {
          "output_type": "stream",
          "name": "stdout",
          "text": [
            "you can use userId: `11011011101s` as parameterbe a risk perfer investor, and start playing ballon risk game, your task is earn as much money as you can. \n",
            "\n"
          ]
        },
        {
          "output_type": "display_data",
          "data": {
            "text/plain": [
              "<IPython.core.display.Markdown object>"
            ],
            "text/markdown": "#### Predicted function name"
          },
          "metadata": {}
        },
        {
          "output_type": "stream",
          "name": "stdout",
          "text": [
            "start_new_game \n",
            "\n"
          ]
        },
        {
          "output_type": "display_data",
          "data": {
            "text/plain": [
              "<IPython.core.display.Markdown object>"
            ],
            "text/markdown": "#### API response"
          },
          "metadata": {}
        },
        {
          "output_type": "stream",
          "name": "stdout",
          "text": [
            "{\"success\":true}\n"
          ]
        },
        {
          "output_type": "display_data",
          "data": {
            "text/plain": [
              "<IPython.core.display.Markdown object>"
            ],
            "text/markdown": "#### Predicted function name"
          },
          "metadata": {}
        },
        {
          "output_type": "stream",
          "name": "stdout",
          "text": [
            "pump \n",
            "\n"
          ]
        },
        {
          "output_type": "display_data",
          "data": {
            "text/plain": [
              "<IPython.core.display.Markdown object>"
            ],
            "text/markdown": "#### API response"
          },
          "metadata": {}
        },
        {
          "output_type": "stream",
          "name": "stdout",
          "text": [
            "{\"userId\":\"{'userId': '11011011101s'}\",\"balanceOnThisBallon\":0.005,\"isExplode\":false,\"isFinite\":false,\"totalBalance\":0,\"pumpCount\":1}\n"
          ]
        },
        {
          "output_type": "display_data",
          "data": {
            "text/plain": [
              "<IPython.core.display.Markdown object>"
            ],
            "text/markdown": "#### Predicted function name"
          },
          "metadata": {}
        },
        {
          "output_type": "stream",
          "name": "stdout",
          "text": [
            "pump \n",
            "\n"
          ]
        },
        {
          "output_type": "display_data",
          "data": {
            "text/plain": [
              "<IPython.core.display.Markdown object>"
            ],
            "text/markdown": "#### API response"
          },
          "metadata": {}
        },
        {
          "output_type": "stream",
          "name": "stdout",
          "text": [
            "{\"userId\":\"{'userId': '11011011101s'}\",\"balanceOnThisBallon\":0.01,\"isExplode\":false,\"isFinite\":false,\"totalBalance\":0,\"pumpCount\":2}\n"
          ]
        },
        {
          "output_type": "display_data",
          "data": {
            "text/plain": [
              "<IPython.core.display.Markdown object>"
            ],
            "text/markdown": "#### Predicted function name"
          },
          "metadata": {}
        },
        {
          "output_type": "stream",
          "name": "stdout",
          "text": [
            "pump \n",
            "\n"
          ]
        },
        {
          "output_type": "display_data",
          "data": {
            "text/plain": [
              "<IPython.core.display.Markdown object>"
            ],
            "text/markdown": "#### API response"
          },
          "metadata": {}
        },
        {
          "output_type": "stream",
          "name": "stdout",
          "text": [
            "{\"userId\":\"{'userId': '11011011101s'}\",\"balanceOnThisBallon\":0.015,\"isExplode\":false,\"isFinite\":false,\"totalBalance\":0,\"pumpCount\":3}\n"
          ]
        },
        {
          "output_type": "display_data",
          "data": {
            "text/plain": [
              "<IPython.core.display.Markdown object>"
            ],
            "text/markdown": "#### Predicted function name"
          },
          "metadata": {}
        },
        {
          "output_type": "stream",
          "name": "stdout",
          "text": [
            "pump \n",
            "\n"
          ]
        },
        {
          "output_type": "display_data",
          "data": {
            "text/plain": [
              "<IPython.core.display.Markdown object>"
            ],
            "text/markdown": "#### API response"
          },
          "metadata": {}
        },
        {
          "output_type": "stream",
          "name": "stdout",
          "text": [
            "{\"userId\":\"{'userId': '11011011101s'}\",\"balanceOnThisBallon\":0.02,\"isExplode\":false,\"isFinite\":false,\"totalBalance\":0,\"pumpCount\":4}\n"
          ]
        },
        {
          "output_type": "display_data",
          "data": {
            "text/plain": [
              "<IPython.core.display.Markdown object>"
            ],
            "text/markdown": "#### Predicted function name"
          },
          "metadata": {}
        },
        {
          "output_type": "stream",
          "name": "stdout",
          "text": [
            "pump \n",
            "\n"
          ]
        },
        {
          "output_type": "display_data",
          "data": {
            "text/plain": [
              "<IPython.core.display.Markdown object>"
            ],
            "text/markdown": "#### API response"
          },
          "metadata": {}
        },
        {
          "output_type": "stream",
          "name": "stdout",
          "text": [
            "{\"userId\":\"{'userId': '11011011101s'}\",\"balanceOnThisBallon\":0,\"isExplode\":true,\"isFinite\":false,\"totalBalance\":0,\"pumpCount\":4}\n"
          ]
        },
        {
          "output_type": "display_data",
          "data": {
            "text/plain": [
              "<IPython.core.display.Markdown object>"
            ],
            "text/markdown": "#### Predicted function name"
          },
          "metadata": {}
        },
        {
          "output_type": "stream",
          "name": "stdout",
          "text": [
            "next \n",
            "\n"
          ]
        },
        {
          "output_type": "display_data",
          "data": {
            "text/plain": [
              "<IPython.core.display.Markdown object>"
            ],
            "text/markdown": "#### API response"
          },
          "metadata": {}
        },
        {
          "output_type": "stream",
          "name": "stdout",
          "text": [
            "{\"success\":true}\n"
          ]
        },
        {
          "output_type": "display_data",
          "data": {
            "text/plain": [
              "<IPython.core.display.Markdown object>"
            ],
            "text/markdown": "#### Predicted function name"
          },
          "metadata": {}
        },
        {
          "output_type": "stream",
          "name": "stdout",
          "text": [
            "pump \n",
            "\n"
          ]
        },
        {
          "output_type": "display_data",
          "data": {
            "text/plain": [
              "<IPython.core.display.Markdown object>"
            ],
            "text/markdown": "#### API response"
          },
          "metadata": {}
        },
        {
          "output_type": "stream",
          "name": "stdout",
          "text": [
            "{\"userId\":\"{'userId': '11011011101s'}\",\"balanceOnThisBallon\":0.005,\"isExplode\":false,\"totalBalance\":0,\"pumpCount\":1}\n"
          ]
        },
        {
          "output_type": "display_data",
          "data": {
            "text/plain": [
              "<IPython.core.display.Markdown object>"
            ],
            "text/markdown": "#### Predicted function name"
          },
          "metadata": {}
        },
        {
          "output_type": "stream",
          "name": "stdout",
          "text": [
            "pump \n",
            "\n"
          ]
        },
        {
          "output_type": "display_data",
          "data": {
            "text/plain": [
              "<IPython.core.display.Markdown object>"
            ],
            "text/markdown": "#### API response"
          },
          "metadata": {}
        },
        {
          "output_type": "stream",
          "name": "stdout",
          "text": [
            "{\"userId\":\"{'userId': '11011011101s'}\",\"balanceOnThisBallon\":0,\"isExplode\":true,\"totalBalance\":0,\"pumpCount\":1}\n"
          ]
        },
        {
          "output_type": "display_data",
          "data": {
            "text/plain": [
              "<IPython.core.display.Markdown object>"
            ],
            "text/markdown": "#### Predicted function name"
          },
          "metadata": {}
        },
        {
          "output_type": "stream",
          "name": "stdout",
          "text": [
            "next \n",
            "\n"
          ]
        },
        {
          "output_type": "display_data",
          "data": {
            "text/plain": [
              "<IPython.core.display.Markdown object>"
            ],
            "text/markdown": "#### API response"
          },
          "metadata": {}
        },
        {
          "output_type": "stream",
          "name": "stdout",
          "text": [
            "{\"success\":true}\n"
          ]
        },
        {
          "output_type": "display_data",
          "data": {
            "text/plain": [
              "<IPython.core.display.Markdown object>"
            ],
            "text/markdown": "#### Predicted function name"
          },
          "metadata": {}
        },
        {
          "output_type": "stream",
          "name": "stdout",
          "text": [
            "pump \n",
            "\n"
          ]
        },
        {
          "output_type": "display_data",
          "data": {
            "text/plain": [
              "<IPython.core.display.Markdown object>"
            ],
            "text/markdown": "#### API response"
          },
          "metadata": {}
        },
        {
          "output_type": "stream",
          "name": "stdout",
          "text": [
            "{\"userId\":\"{'userId': '11011011101s'}\",\"balanceOnThisBallon\":0,\"isExplode\":true,\"totalBalance\":0,\"pumpCount\":0}\n"
          ]
        },
        {
          "output_type": "display_data",
          "data": {
            "text/plain": [
              "<IPython.core.display.Markdown object>"
            ],
            "text/markdown": "#### Predicted function name"
          },
          "metadata": {}
        },
        {
          "output_type": "stream",
          "name": "stdout",
          "text": [
            "next \n",
            "\n"
          ]
        },
        {
          "output_type": "display_data",
          "data": {
            "text/plain": [
              "<IPython.core.display.Markdown object>"
            ],
            "text/markdown": "#### API response"
          },
          "metadata": {}
        },
        {
          "output_type": "stream",
          "name": "stdout",
          "text": [
            "{\"success\":true}\n"
          ]
        },
        {
          "output_type": "display_data",
          "data": {
            "text/plain": [
              "<IPython.core.display.Markdown object>"
            ],
            "text/markdown": "#### Predicted function name"
          },
          "metadata": {}
        },
        {
          "output_type": "stream",
          "name": "stdout",
          "text": [
            "pump \n",
            "\n"
          ]
        },
        {
          "output_type": "display_data",
          "data": {
            "text/plain": [
              "<IPython.core.display.Markdown object>"
            ],
            "text/markdown": "#### API response"
          },
          "metadata": {}
        },
        {
          "output_type": "stream",
          "name": "stdout",
          "text": [
            "{\"userId\":\"{'userId': '11011011101s'}\",\"balanceOnThisBallon\":0.005,\"isExplode\":false,\"totalBalance\":0,\"pumpCount\":1}\n"
          ]
        },
        {
          "output_type": "display_data",
          "data": {
            "text/plain": [
              "<IPython.core.display.Markdown object>"
            ],
            "text/markdown": "#### Predicted function name"
          },
          "metadata": {}
        },
        {
          "output_type": "stream",
          "name": "stdout",
          "text": [
            "pump \n",
            "\n"
          ]
        },
        {
          "output_type": "display_data",
          "data": {
            "text/plain": [
              "<IPython.core.display.Markdown object>"
            ],
            "text/markdown": "#### API response"
          },
          "metadata": {}
        },
        {
          "output_type": "stream",
          "name": "stdout",
          "text": [
            "{\"userId\":\"{'userId': '11011011101s'}\",\"balanceOnThisBallon\":0.01,\"isExplode\":false,\"totalBalance\":0,\"pumpCount\":2}\n"
          ]
        },
        {
          "output_type": "display_data",
          "data": {
            "text/plain": [
              "<IPython.core.display.Markdown object>"
            ],
            "text/markdown": "#### Predicted function name"
          },
          "metadata": {}
        },
        {
          "output_type": "stream",
          "name": "stdout",
          "text": [
            "pump \n",
            "\n"
          ]
        },
        {
          "output_type": "display_data",
          "data": {
            "text/plain": [
              "<IPython.core.display.Markdown object>"
            ],
            "text/markdown": "#### API response"
          },
          "metadata": {}
        },
        {
          "output_type": "stream",
          "name": "stdout",
          "text": [
            "{\"userId\":\"{'userId': '11011011101s'}\",\"balanceOnThisBallon\":0.015,\"isExplode\":false,\"totalBalance\":0,\"pumpCount\":3}\n"
          ]
        },
        {
          "output_type": "display_data",
          "data": {
            "text/plain": [
              "<IPython.core.display.Markdown object>"
            ],
            "text/markdown": "#### Predicted function name"
          },
          "metadata": {}
        },
        {
          "output_type": "stream",
          "name": "stdout",
          "text": [
            "pump \n",
            "\n"
          ]
        },
        {
          "output_type": "display_data",
          "data": {
            "text/plain": [
              "<IPython.core.display.Markdown object>"
            ],
            "text/markdown": "#### API response"
          },
          "metadata": {}
        },
        {
          "output_type": "stream",
          "name": "stdout",
          "text": [
            "{\"userId\":\"{'userId': '11011011101s'}\",\"balanceOnThisBallon\":0.02,\"isExplode\":false,\"totalBalance\":0,\"pumpCount\":4}\n"
          ]
        },
        {
          "output_type": "display_data",
          "data": {
            "text/plain": [
              "<IPython.core.display.Markdown object>"
            ],
            "text/markdown": "#### Predicted function name"
          },
          "metadata": {}
        },
        {
          "output_type": "stream",
          "name": "stdout",
          "text": [
            "pump \n",
            "\n"
          ]
        },
        {
          "output_type": "display_data",
          "data": {
            "text/plain": [
              "<IPython.core.display.Markdown object>"
            ],
            "text/markdown": "#### API response"
          },
          "metadata": {}
        },
        {
          "output_type": "stream",
          "name": "stdout",
          "text": [
            "{\"userId\":\"{'userId': '11011011101s'}\",\"balanceOnThisBallon\":0,\"isExplode\":true,\"totalBalance\":0,\"pumpCount\":4}\n"
          ]
        },
        {
          "output_type": "display_data",
          "data": {
            "text/plain": [
              "<IPython.core.display.Markdown object>"
            ],
            "text/markdown": "#### Predicted function name"
          },
          "metadata": {}
        },
        {
          "output_type": "stream",
          "name": "stdout",
          "text": [
            "next \n",
            "\n"
          ]
        },
        {
          "output_type": "display_data",
          "data": {
            "text/plain": [
              "<IPython.core.display.Markdown object>"
            ],
            "text/markdown": "#### API response"
          },
          "metadata": {}
        },
        {
          "output_type": "stream",
          "name": "stdout",
          "text": [
            "{\"success\":true}\n"
          ]
        },
        {
          "output_type": "display_data",
          "data": {
            "text/plain": [
              "<IPython.core.display.Markdown object>"
            ],
            "text/markdown": "#### Predicted function name"
          },
          "metadata": {}
        },
        {
          "output_type": "stream",
          "name": "stdout",
          "text": [
            "pump \n",
            "\n"
          ]
        },
        {
          "output_type": "display_data",
          "data": {
            "text/plain": [
              "<IPython.core.display.Markdown object>"
            ],
            "text/markdown": "#### API response"
          },
          "metadata": {}
        },
        {
          "output_type": "stream",
          "name": "stdout",
          "text": [
            "{\"userId\":\"{'userId': '11011011101s'}\",\"balanceOnThisBallon\":0.005,\"isExplode\":false,\"totalBalance\":0,\"pumpCount\":1}\n"
          ]
        },
        {
          "output_type": "display_data",
          "data": {
            "text/plain": [
              "<IPython.core.display.Markdown object>"
            ],
            "text/markdown": "#### Predicted function name"
          },
          "metadata": {}
        },
        {
          "output_type": "stream",
          "name": "stdout",
          "text": [
            "pump \n",
            "\n"
          ]
        },
        {
          "output_type": "display_data",
          "data": {
            "text/plain": [
              "<IPython.core.display.Markdown object>"
            ],
            "text/markdown": "#### API response"
          },
          "metadata": {}
        },
        {
          "output_type": "stream",
          "name": "stdout",
          "text": [
            "{\"userId\":\"{'userId': '11011011101s'}\",\"balanceOnThisBallon\":0.01,\"isExplode\":false,\"totalBalance\":0,\"pumpCount\":2}\n"
          ]
        },
        {
          "output_type": "display_data",
          "data": {
            "text/plain": [
              "<IPython.core.display.Markdown object>"
            ],
            "text/markdown": "#### Predicted function name"
          },
          "metadata": {}
        },
        {
          "output_type": "stream",
          "name": "stdout",
          "text": [
            "pump \n",
            "\n"
          ]
        },
        {
          "output_type": "display_data",
          "data": {
            "text/plain": [
              "<IPython.core.display.Markdown object>"
            ],
            "text/markdown": "#### API response"
          },
          "metadata": {}
        },
        {
          "output_type": "stream",
          "name": "stdout",
          "text": [
            "{\"userId\":\"{'userId': '11011011101s'}\",\"balanceOnThisBallon\":0.015,\"isExplode\":false,\"totalBalance\":0,\"pumpCount\":3}\n"
          ]
        },
        {
          "output_type": "display_data",
          "data": {
            "text/plain": [
              "<IPython.core.display.Markdown object>"
            ],
            "text/markdown": "#### Predicted function name"
          },
          "metadata": {}
        },
        {
          "output_type": "stream",
          "name": "stdout",
          "text": [
            "pump \n",
            "\n"
          ]
        },
        {
          "output_type": "display_data",
          "data": {
            "text/plain": [
              "<IPython.core.display.Markdown object>"
            ],
            "text/markdown": "#### API response"
          },
          "metadata": {}
        },
        {
          "output_type": "stream",
          "name": "stdout",
          "text": [
            "{\"userId\":\"{'userId': '11011011101s'}\",\"balanceOnThisBallon\":0.02,\"isExplode\":false,\"totalBalance\":0,\"pumpCount\":4}\n"
          ]
        },
        {
          "output_type": "display_data",
          "data": {
            "text/plain": [
              "<IPython.core.display.Markdown object>"
            ],
            "text/markdown": "#### Predicted function name"
          },
          "metadata": {}
        },
        {
          "output_type": "stream",
          "name": "stdout",
          "text": [
            "cash_out \n",
            "\n"
          ]
        },
        {
          "output_type": "display_data",
          "data": {
            "text/plain": [
              "<IPython.core.display.Markdown object>"
            ],
            "text/markdown": "#### API response"
          },
          "metadata": {}
        },
        {
          "output_type": "stream",
          "name": "stdout",
          "text": [
            "{\"userId\":\"{'userId': '11011011101s'}\",\"isExploded\":false,\"totalBalance\":0.02,\"pumpCount\":4,\"shouldGoNext\":true}\n"
          ]
        },
        {
          "output_type": "display_data",
          "data": {
            "text/plain": [
              "<IPython.core.display.Markdown object>"
            ],
            "text/markdown": "#### Predicted function name"
          },
          "metadata": {}
        },
        {
          "output_type": "stream",
          "name": "stdout",
          "text": [
            "next \n",
            "\n"
          ]
        },
        {
          "output_type": "display_data",
          "data": {
            "text/plain": [
              "<IPython.core.display.Markdown object>"
            ],
            "text/markdown": "#### API response"
          },
          "metadata": {}
        },
        {
          "output_type": "stream",
          "name": "stdout",
          "text": [
            "{\"success\":true}\n"
          ]
        },
        {
          "output_type": "display_data",
          "data": {
            "text/plain": [
              "<IPython.core.display.Markdown object>"
            ],
            "text/markdown": "#### Predicted function name"
          },
          "metadata": {}
        },
        {
          "output_type": "stream",
          "name": "stdout",
          "text": [
            "pump \n",
            "\n"
          ]
        },
        {
          "output_type": "display_data",
          "data": {
            "text/plain": [
              "<IPython.core.display.Markdown object>"
            ],
            "text/markdown": "#### API response"
          },
          "metadata": {}
        },
        {
          "output_type": "stream",
          "name": "stdout",
          "text": [
            "{\"userId\":\"{'userId': '11011011101s'}\",\"balanceOnThisBallon\":0.005,\"isExplode\":false,\"totalBalance\":0.02,\"pumpCount\":1}\n"
          ]
        },
        {
          "output_type": "display_data",
          "data": {
            "text/plain": [
              "<IPython.core.display.Markdown object>"
            ],
            "text/markdown": "#### Predicted function name"
          },
          "metadata": {}
        },
        {
          "output_type": "stream",
          "name": "stdout",
          "text": [
            "pump \n",
            "\n"
          ]
        },
        {
          "output_type": "display_data",
          "data": {
            "text/plain": [
              "<IPython.core.display.Markdown object>"
            ],
            "text/markdown": "#### API response"
          },
          "metadata": {}
        },
        {
          "output_type": "stream",
          "name": "stdout",
          "text": [
            "{\"userId\":\"{'userId': '11011011101s'}\",\"balanceOnThisBallon\":0.01,\"isExplode\":false,\"totalBalance\":0.02,\"pumpCount\":2}\n"
          ]
        },
        {
          "output_type": "display_data",
          "data": {
            "text/plain": [
              "<IPython.core.display.Markdown object>"
            ],
            "text/markdown": "#### Predicted function name"
          },
          "metadata": {}
        },
        {
          "output_type": "stream",
          "name": "stdout",
          "text": [
            "pump \n",
            "\n"
          ]
        },
        {
          "output_type": "display_data",
          "data": {
            "text/plain": [
              "<IPython.core.display.Markdown object>"
            ],
            "text/markdown": "#### API response"
          },
          "metadata": {}
        },
        {
          "output_type": "stream",
          "name": "stdout",
          "text": [
            "{\"userId\":\"{'userId': '11011011101s'}\",\"balanceOnThisBallon\":0.015,\"isExplode\":false,\"totalBalance\":0.02,\"pumpCount\":3}\n"
          ]
        },
        {
          "output_type": "display_data",
          "data": {
            "text/plain": [
              "<IPython.core.display.Markdown object>"
            ],
            "text/markdown": "#### Predicted function name"
          },
          "metadata": {}
        },
        {
          "output_type": "stream",
          "name": "stdout",
          "text": [
            "cash_out \n",
            "\n"
          ]
        },
        {
          "output_type": "display_data",
          "data": {
            "text/plain": [
              "<IPython.core.display.Markdown object>"
            ],
            "text/markdown": "#### API response"
          },
          "metadata": {}
        },
        {
          "output_type": "stream",
          "name": "stdout",
          "text": [
            "{\"userId\":\"{'userId': '11011011101s'}\",\"isExploded\":false,\"totalBalance\":0.035,\"pumpCount\":3,\"shouldGoNext\":true}\n"
          ]
        },
        {
          "output_type": "display_data",
          "data": {
            "text/plain": [
              "<IPython.core.display.Markdown object>"
            ],
            "text/markdown": "#### Predicted function name"
          },
          "metadata": {}
        },
        {
          "output_type": "stream",
          "name": "stdout",
          "text": [
            "next \n",
            "\n"
          ]
        },
        {
          "output_type": "display_data",
          "data": {
            "text/plain": [
              "<IPython.core.display.Markdown object>"
            ],
            "text/markdown": "#### API response"
          },
          "metadata": {}
        },
        {
          "output_type": "stream",
          "name": "stdout",
          "text": [
            "{\"success\":true}\n"
          ]
        },
        {
          "output_type": "display_data",
          "data": {
            "text/plain": [
              "<IPython.core.display.Markdown object>"
            ],
            "text/markdown": "#### Predicted function name"
          },
          "metadata": {}
        },
        {
          "output_type": "stream",
          "name": "stdout",
          "text": [
            "pump \n",
            "\n"
          ]
        },
        {
          "output_type": "display_data",
          "data": {
            "text/plain": [
              "<IPython.core.display.Markdown object>"
            ],
            "text/markdown": "#### API response"
          },
          "metadata": {}
        },
        {
          "output_type": "stream",
          "name": "stdout",
          "text": [
            "{\"userId\":\"{'userId': '11011011101s'}\",\"balanceOnThisBallon\":0.005,\"isExplode\":false,\"totalBalance\":0.035,\"pumpCount\":1}\n"
          ]
        },
        {
          "output_type": "display_data",
          "data": {
            "text/plain": [
              "<IPython.core.display.Markdown object>"
            ],
            "text/markdown": "#### Predicted function name"
          },
          "metadata": {}
        },
        {
          "output_type": "stream",
          "name": "stdout",
          "text": [
            "pump \n",
            "\n"
          ]
        },
        {
          "output_type": "display_data",
          "data": {
            "text/plain": [
              "<IPython.core.display.Markdown object>"
            ],
            "text/markdown": "#### API response"
          },
          "metadata": {}
        },
        {
          "output_type": "stream",
          "name": "stdout",
          "text": [
            "{\"userId\":\"{'userId': '11011011101s'}\",\"balanceOnThisBallon\":0.01,\"isExplode\":false,\"totalBalance\":0.035,\"pumpCount\":2}\n"
          ]
        },
        {
          "output_type": "display_data",
          "data": {
            "text/plain": [
              "<IPython.core.display.Markdown object>"
            ],
            "text/markdown": "#### Predicted function name"
          },
          "metadata": {}
        },
        {
          "output_type": "stream",
          "name": "stdout",
          "text": [
            "pump \n",
            "\n"
          ]
        },
        {
          "output_type": "display_data",
          "data": {
            "text/plain": [
              "<IPython.core.display.Markdown object>"
            ],
            "text/markdown": "#### API response"
          },
          "metadata": {}
        },
        {
          "output_type": "stream",
          "name": "stdout",
          "text": [
            "{\"userId\":\"{'userId': '11011011101s'}\",\"balanceOnThisBallon\":0.015,\"isExplode\":false,\"totalBalance\":0.035,\"pumpCount\":3}\n"
          ]
        },
        {
          "output_type": "display_data",
          "data": {
            "text/plain": [
              "<IPython.core.display.Markdown object>"
            ],
            "text/markdown": "#### Predicted function name"
          },
          "metadata": {}
        },
        {
          "output_type": "stream",
          "name": "stdout",
          "text": [
            "cash_out \n",
            "\n"
          ]
        },
        {
          "output_type": "display_data",
          "data": {
            "text/plain": [
              "<IPython.core.display.Markdown object>"
            ],
            "text/markdown": "#### API response"
          },
          "metadata": {}
        },
        {
          "output_type": "stream",
          "name": "stdout",
          "text": [
            "{\"userId\":\"{'userId': '11011011101s'}\",\"isExploded\":false,\"totalBalance\":0.05,\"pumpCount\":3,\"shouldGoNext\":true}\n"
          ]
        },
        {
          "output_type": "display_data",
          "data": {
            "text/plain": [
              "<IPython.core.display.Markdown object>"
            ],
            "text/markdown": "#### Predicted function name"
          },
          "metadata": {}
        },
        {
          "output_type": "stream",
          "name": "stdout",
          "text": [
            "next \n",
            "\n"
          ]
        },
        {
          "output_type": "display_data",
          "data": {
            "text/plain": [
              "<IPython.core.display.Markdown object>"
            ],
            "text/markdown": "#### API response"
          },
          "metadata": {}
        },
        {
          "output_type": "stream",
          "name": "stdout",
          "text": [
            "{\"success\":true}\n"
          ]
        },
        {
          "output_type": "display_data",
          "data": {
            "text/plain": [
              "<IPython.core.display.Markdown object>"
            ],
            "text/markdown": "#### Predicted function name"
          },
          "metadata": {}
        },
        {
          "output_type": "stream",
          "name": "stdout",
          "text": [
            "pump \n",
            "\n"
          ]
        },
        {
          "output_type": "display_data",
          "data": {
            "text/plain": [
              "<IPython.core.display.Markdown object>"
            ],
            "text/markdown": "#### API response"
          },
          "metadata": {}
        },
        {
          "output_type": "stream",
          "name": "stdout",
          "text": [
            "{\"userId\":\"{'userId': '11011011101s'}\",\"balanceOnThisBallon\":0.005,\"isExplode\":false,\"totalBalance\":0.05,\"pumpCount\":1}\n"
          ]
        },
        {
          "output_type": "display_data",
          "data": {
            "text/plain": [
              "<IPython.core.display.Markdown object>"
            ],
            "text/markdown": "#### Predicted function name"
          },
          "metadata": {}
        },
        {
          "output_type": "stream",
          "name": "stdout",
          "text": [
            "pump \n",
            "\n"
          ]
        },
        {
          "output_type": "display_data",
          "data": {
            "text/plain": [
              "<IPython.core.display.Markdown object>"
            ],
            "text/markdown": "#### API response"
          },
          "metadata": {}
        },
        {
          "output_type": "stream",
          "name": "stdout",
          "text": [
            "{\"userId\":\"{'userId': '11011011101s'}\",\"balanceOnThisBallon\":0.01,\"isExplode\":false,\"totalBalance\":0.05,\"pumpCount\":2}\n"
          ]
        },
        {
          "output_type": "display_data",
          "data": {
            "text/plain": [
              "<IPython.core.display.Markdown object>"
            ],
            "text/markdown": "#### Predicted function name"
          },
          "metadata": {}
        },
        {
          "output_type": "stream",
          "name": "stdout",
          "text": [
            "pump \n",
            "\n"
          ]
        },
        {
          "output_type": "display_data",
          "data": {
            "text/plain": [
              "<IPython.core.display.Markdown object>"
            ],
            "text/markdown": "#### API response"
          },
          "metadata": {}
        },
        {
          "output_type": "stream",
          "name": "stdout",
          "text": [
            "{\"userId\":\"{'userId': '11011011101s'}\",\"balanceOnThisBallon\":0.015,\"isExplode\":false,\"totalBalance\":0.05,\"pumpCount\":3}\n"
          ]
        },
        {
          "output_type": "display_data",
          "data": {
            "text/plain": [
              "<IPython.core.display.Markdown object>"
            ],
            "text/markdown": "#### Predicted function name"
          },
          "metadata": {}
        },
        {
          "output_type": "stream",
          "name": "stdout",
          "text": [
            "pump \n",
            "\n"
          ]
        },
        {
          "output_type": "display_data",
          "data": {
            "text/plain": [
              "<IPython.core.display.Markdown object>"
            ],
            "text/markdown": "#### API response"
          },
          "metadata": {}
        },
        {
          "output_type": "stream",
          "name": "stdout",
          "text": [
            "{\"userId\":\"{'userId': '11011011101s'}\",\"balanceOnThisBallon\":0.02,\"isExplode\":false,\"totalBalance\":0.05,\"pumpCount\":4}\n"
          ]
        },
        {
          "output_type": "display_data",
          "data": {
            "text/plain": [
              "<IPython.core.display.Markdown object>"
            ],
            "text/markdown": "#### Predicted function name"
          },
          "metadata": {}
        },
        {
          "output_type": "stream",
          "name": "stdout",
          "text": [
            "pump \n",
            "\n"
          ]
        },
        {
          "output_type": "display_data",
          "data": {
            "text/plain": [
              "<IPython.core.display.Markdown object>"
            ],
            "text/markdown": "#### API response"
          },
          "metadata": {}
        },
        {
          "output_type": "stream",
          "name": "stdout",
          "text": [
            "{\"userId\":\"{'userId': '11011011101s'}\",\"balanceOnThisBallon\":0.025,\"isExplode\":false,\"totalBalance\":0.05,\"pumpCount\":5}\n"
          ]
        },
        {
          "output_type": "display_data",
          "data": {
            "text/plain": [
              "<IPython.core.display.Markdown object>"
            ],
            "text/markdown": "#### Predicted function name"
          },
          "metadata": {}
        },
        {
          "output_type": "stream",
          "name": "stdout",
          "text": [
            "cash_out \n",
            "\n"
          ]
        },
        {
          "output_type": "display_data",
          "data": {
            "text/plain": [
              "<IPython.core.display.Markdown object>"
            ],
            "text/markdown": "#### API response"
          },
          "metadata": {}
        },
        {
          "output_type": "stream",
          "name": "stdout",
          "text": [
            "{\"userId\":\"{'userId': '11011011101s'}\",\"isExploded\":false,\"totalBalance\":0.07500000000000001,\"pumpCount\":5,\"shouldGoNext\":true}\n"
          ]
        },
        {
          "output_type": "display_data",
          "data": {
            "text/plain": [
              "<IPython.core.display.Markdown object>"
            ],
            "text/markdown": "#### Predicted function name"
          },
          "metadata": {}
        },
        {
          "output_type": "stream",
          "name": "stdout",
          "text": [
            "next \n",
            "\n"
          ]
        },
        {
          "output_type": "display_data",
          "data": {
            "text/plain": [
              "<IPython.core.display.Markdown object>"
            ],
            "text/markdown": "#### API response"
          },
          "metadata": {}
        },
        {
          "output_type": "stream",
          "name": "stdout",
          "text": [
            "{\"success\":true}\n"
          ]
        },
        {
          "output_type": "display_data",
          "data": {
            "text/plain": [
              "<IPython.core.display.Markdown object>"
            ],
            "text/markdown": "#### Predicted function name"
          },
          "metadata": {}
        },
        {
          "output_type": "stream",
          "name": "stdout",
          "text": [
            "pump \n",
            "\n"
          ]
        },
        {
          "output_type": "display_data",
          "data": {
            "text/plain": [
              "<IPython.core.display.Markdown object>"
            ],
            "text/markdown": "#### API response"
          },
          "metadata": {}
        },
        {
          "output_type": "stream",
          "name": "stdout",
          "text": [
            "{\"userId\":\"{'userId': '11011011101s'}\",\"balanceOnThisBallon\":0.005,\"isExplode\":false,\"totalBalance\":0.07500000000000001,\"pumpCount\":1}\n"
          ]
        },
        {
          "output_type": "display_data",
          "data": {
            "text/plain": [
              "<IPython.core.display.Markdown object>"
            ],
            "text/markdown": "#### Predicted function name"
          },
          "metadata": {}
        },
        {
          "output_type": "stream",
          "name": "stdout",
          "text": [
            "pump \n",
            "\n"
          ]
        },
        {
          "output_type": "display_data",
          "data": {
            "text/plain": [
              "<IPython.core.display.Markdown object>"
            ],
            "text/markdown": "#### API response"
          },
          "metadata": {}
        },
        {
          "output_type": "stream",
          "name": "stdout",
          "text": [
            "{\"userId\":\"{'userId': '11011011101s'}\",\"balanceOnThisBallon\":0,\"isExplode\":true,\"totalBalance\":0.07500000000000001,\"pumpCount\":1}\n"
          ]
        },
        {
          "output_type": "display_data",
          "data": {
            "text/plain": [
              "<IPython.core.display.Markdown object>"
            ],
            "text/markdown": "#### Predicted function name"
          },
          "metadata": {}
        },
        {
          "output_type": "stream",
          "name": "stdout",
          "text": [
            "next \n",
            "\n"
          ]
        },
        {
          "output_type": "display_data",
          "data": {
            "text/plain": [
              "<IPython.core.display.Markdown object>"
            ],
            "text/markdown": "#### API response"
          },
          "metadata": {}
        },
        {
          "output_type": "stream",
          "name": "stdout",
          "text": [
            "{\"success\":true}\n"
          ]
        },
        {
          "output_type": "display_data",
          "data": {
            "text/plain": [
              "<IPython.core.display.Markdown object>"
            ],
            "text/markdown": "#### Predicted function name"
          },
          "metadata": {}
        },
        {
          "output_type": "stream",
          "name": "stdout",
          "text": [
            "pump \n",
            "\n"
          ]
        },
        {
          "output_type": "display_data",
          "data": {
            "text/plain": [
              "<IPython.core.display.Markdown object>"
            ],
            "text/markdown": "#### API response"
          },
          "metadata": {}
        },
        {
          "output_type": "stream",
          "name": "stdout",
          "text": [
            "{\"userId\":\"{'userId': '11011011101s'}\",\"balanceOnThisBallon\":0.005,\"isExplode\":false,\"totalBalance\":0.07500000000000001,\"pumpCount\":1}\n"
          ]
        },
        {
          "output_type": "display_data",
          "data": {
            "text/plain": [
              "<IPython.core.display.Markdown object>"
            ],
            "text/markdown": "#### Predicted function name"
          },
          "metadata": {}
        },
        {
          "output_type": "stream",
          "name": "stdout",
          "text": [
            "pump \n",
            "\n"
          ]
        },
        {
          "output_type": "display_data",
          "data": {
            "text/plain": [
              "<IPython.core.display.Markdown object>"
            ],
            "text/markdown": "#### API response"
          },
          "metadata": {}
        },
        {
          "output_type": "stream",
          "name": "stdout",
          "text": [
            "{\"userId\":\"{'userId': '11011011101s'}\",\"balanceOnThisBallon\":0.01,\"isExplode\":false,\"totalBalance\":0.07500000000000001,\"pumpCount\":2}\n"
          ]
        },
        {
          "output_type": "display_data",
          "data": {
            "text/plain": [
              "<IPython.core.display.Markdown object>"
            ],
            "text/markdown": "#### Predicted function name"
          },
          "metadata": {}
        },
        {
          "output_type": "stream",
          "name": "stdout",
          "text": [
            "pump \n",
            "\n"
          ]
        },
        {
          "output_type": "display_data",
          "data": {
            "text/plain": [
              "<IPython.core.display.Markdown object>"
            ],
            "text/markdown": "#### API response"
          },
          "metadata": {}
        },
        {
          "output_type": "stream",
          "name": "stdout",
          "text": [
            "{\"userId\":\"{'userId': '11011011101s'}\",\"balanceOnThisBallon\":0.015,\"isExplode\":false,\"totalBalance\":0.07500000000000001,\"pumpCount\":3}\n"
          ]
        },
        {
          "output_type": "display_data",
          "data": {
            "text/plain": [
              "<IPython.core.display.Markdown object>"
            ],
            "text/markdown": "#### Predicted function name"
          },
          "metadata": {}
        },
        {
          "output_type": "stream",
          "name": "stdout",
          "text": [
            "pump \n",
            "\n"
          ]
        },
        {
          "output_type": "display_data",
          "data": {
            "text/plain": [
              "<IPython.core.display.Markdown object>"
            ],
            "text/markdown": "#### API response"
          },
          "metadata": {}
        },
        {
          "output_type": "stream",
          "name": "stdout",
          "text": [
            "{\"userId\":\"{'userId': '11011011101s'}\",\"balanceOnThisBallon\":0.02,\"isExplode\":false,\"totalBalance\":0.07500000000000001,\"pumpCount\":4}\n"
          ]
        },
        {
          "output_type": "display_data",
          "data": {
            "text/plain": [
              "<IPython.core.display.Markdown object>"
            ],
            "text/markdown": "#### Predicted function name"
          },
          "metadata": {}
        },
        {
          "output_type": "stream",
          "name": "stdout",
          "text": [
            "cash_out \n",
            "\n"
          ]
        },
        {
          "output_type": "display_data",
          "data": {
            "text/plain": [
              "<IPython.core.display.Markdown object>"
            ],
            "text/markdown": "#### API response"
          },
          "metadata": {}
        },
        {
          "output_type": "stream",
          "name": "stdout",
          "text": [
            "{\"userId\":\"{'userId': '11011011101s'}\",\"isExploded\":false,\"totalBalance\":0.09500000000000001,\"pumpCount\":4,\"shouldGoNext\":true}\n"
          ]
        },
        {
          "output_type": "display_data",
          "data": {
            "text/plain": [
              "<IPython.core.display.Markdown object>"
            ],
            "text/markdown": "#### Predicted function name"
          },
          "metadata": {}
        },
        {
          "output_type": "stream",
          "name": "stdout",
          "text": [
            "next \n",
            "\n"
          ]
        },
        {
          "output_type": "display_data",
          "data": {
            "text/plain": [
              "<IPython.core.display.Markdown object>"
            ],
            "text/markdown": "#### API response"
          },
          "metadata": {}
        },
        {
          "output_type": "stream",
          "name": "stdout",
          "text": [
            "{\"finish\":true}\n"
          ]
        },
        {
          "output_type": "display_data",
          "data": {
            "text/plain": [
              "<IPython.core.display.Markdown object>"
            ],
            "text/markdown": "#### Natural language response"
          },
          "metadata": {}
        },
        {
          "output_type": "display_data",
          "data": {
            "text/plain": [
              "<IPython.core.display.Markdown object>"
            ],
            "text/markdown": "You earned \\\\$0.095 on this game.  \n"
          },
          "metadata": {}
        }
      ]
    },
    {
      "cell_type": "code",
      "source": [],
      "metadata": {
        "id": "-M9YGniP9feh"
      },
      "execution_count": null,
      "outputs": []
    }
  ]
}